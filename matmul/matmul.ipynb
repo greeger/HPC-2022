{
  "nbformat": 4,
  "nbformat_minor": 0,
  "metadata": {
    "colab": {
      "provenance": [],
      "collapsed_sections": []
    },
    "kernelspec": {
      "name": "python3",
      "display_name": "Python 3"
    },
    "language_info": {
      "name": "python"
    }
  },
  "cells": [
    {
      "cell_type": "code",
      "source": [
        "!nvcc --version"
      ],
      "metadata": {
        "colab": {
          "base_uri": "https://localhost:8080/"
        },
        "id": "IdYARqHw1KVK",
        "outputId": "dd9488f7-60ed-4737-d0a7-39b20ef6a7ec"
      },
      "execution_count": 2,
      "outputs": [
        {
          "output_type": "stream",
          "name": "stdout",
          "text": [
            "nvcc: NVIDIA (R) Cuda compiler driver\n",
            "Copyright (c) 2005-2021 NVIDIA Corporation\n",
            "Built on Sun_Feb_14_21:12:58_PST_2021\n",
            "Cuda compilation tools, release 11.2, V11.2.152\n",
            "Build cuda_11.2.r11.2/compiler.29618528_0\n"
          ]
        }
      ]
    },
    {
      "cell_type": "code",
      "source": [
        "!pip install git+https://github.com/andreinechaev/nvcc4jupyter.git"
      ],
      "metadata": {
        "id": "TYhanP2d1QKG"
      },
      "execution_count": null,
      "outputs": []
    },
    {
      "cell_type": "code",
      "source": [
        "%load_ext nvcc_plugin"
      ],
      "metadata": {
        "id": "LBmdaVip1Zpw"
      },
      "execution_count": null,
      "outputs": []
    },
    {
      "cell_type": "code",
      "source": [
        "%%cu\n",
        "#include <iostream>\n",
        "#include <stdio.h>\n",
        "#include <sys/time.h>\n",
        "\n",
        "using namespace std;\n",
        "\n",
        "#define ID(i,j,rows) ((j)*(rows)+(i))\n",
        "\n",
        "double matmul_cpu(float* A, float* B, float* C, int K, int M, int N){\n",
        "    struct timeval start, end;\n",
        "    gettimeofday(&start, NULL);\n",
        "    float t;\n",
        "    for(int i = 0; i < K; i++)\n",
        "      for(int j = 0; j < N; j++){\n",
        "        t = 0;\n",
        "        for(int k = 0; k < M; k++)\n",
        "          t += A[ID(i,k,K)] * B[ID(k,j,M)];\n",
        "        C[ID(i,j,K)] = t;\n",
        "      }\n",
        "    gettimeofday(&end, NULL);\n",
        "    return (end.tv_sec - start.tv_sec) + ((double)end.tv_usec - start.tv_usec)/1000000;\n",
        "}\n",
        "\n",
        "__global__ void MatMul(float* A, float* B, float* C, int K, int M, int N)\n",
        "{\n",
        "    int x = blockIdx.y * blockDim.y + threadIdx.x;\n",
        "    int y = blockIdx.x * blockDim.x + threadIdx.y;\n",
        "\n",
        "    if(y >= N || x >= K)\n",
        "      return;\n",
        "\n",
        "    float value = 0.0;\n",
        "    for(int i = 0; i < M; i++)\n",
        "        value += A[ID(x,i,K)] * B[ID(i,y,M)];\n",
        "    C[ID(x,y,K)] = value;\n",
        " \n",
        "    return;\n",
        "}\n",
        "\n",
        "double matmul_gpu(float* A, float* B, float* C, int K, int M, int N){\n",
        "    dim3 blockDim(10, 10);\n",
        "    dim3 gridDim((N-1)/blockDim.x + 1, (K-1)/blockDim.y + 1);\n",
        "\n",
        "    float* cudaA;\n",
        "    float* cudaB;\n",
        "    float* cudaC;\n",
        "\n",
        "    cudaMalloc(&cudaA, K * M * sizeof(float));\n",
        "    cudaMalloc(&cudaB, M * N * sizeof(float));\n",
        "    cudaMalloc(&cudaC, K * N * sizeof(float));\n",
        "\n",
        "    cudaMemcpy(cudaA, A, K * M * sizeof(float), cudaMemcpyHostToDevice);\n",
        "    cudaMemcpy(cudaB, B, M * N * sizeof(float), cudaMemcpyHostToDevice);\n",
        "\n",
        "    cudaEvent_t start, end;\n",
        "    cudaEventCreate(&start);\n",
        "    cudaEventCreate(&end);\n",
        "\n",
        "    float gpu_time = 0.0f;\n",
        "\t\n",
        "    cudaEventRecord(start);\n",
        "\n",
        "    MatMul <<< gridDim, blockDim >>> (cudaA, cudaB, cudaC, K, M, N);\n",
        "\n",
        "    cudaThreadSynchronize();\n",
        "    cudaEventRecord(end);\n",
        "    cudaDeviceSynchronize();\n",
        "\t\n",
        "    cudaEventElapsedTime(&gpu_time, start, end);\n",
        "\n",
        "    cudaMemcpy(C, cudaC, K * N * sizeof(float), cudaMemcpyDeviceToHost);\n",
        "\n",
        "    cudaFree(cudaA);\n",
        "    cudaFree(cudaB);\n",
        "    cudaFree(cudaC);\n",
        "\n",
        "    return gpu_time/1000;\n",
        "}\n",
        "\n",
        "void print_matrix(float* A, int rows, int cols){\n",
        "    for(int i = 0; i < rows; i++){\n",
        "      for(int j = 0; j < cols; j++)\n",
        "        cout << A[ID(i,j,rows)] << \" \";\n",
        "      cout << endl;\n",
        "    }\n",
        "    cout << endl;\n",
        "}\n",
        "\n",
        "float dif_matrix(float* A, float* B, int l){\n",
        "    float rez = 0;\n",
        "    for(int i = 0; i < l; i++)\n",
        "      rez += (A[i] - B[i]) * (A[i] - B[i]);\n",
        "    return rez;\n",
        "}\n",
        "\n",
        "int main() {\n",
        "    //int same = 2000;\n",
        "\t  int K = 1000, M = 200, N = 350;\n",
        "\n",
        "    float* A = (float *)malloc(K * M * sizeof(float));\n",
        "    float* B = (float *)malloc(M * N * sizeof(float));\n",
        "    float* C_cpu = (float *)malloc(K * N * sizeof(float));\n",
        "    float* C_gpu = (float *)malloc(K * N * sizeof(float));\n",
        "\t\n",
        "    srand(time(0));\n",
        "    for (int j = 0; j < K*M; j++)\n",
        "      A[j] = rand()%10 + 0.1;\n",
        "    for (int j = 0; j < M*N; j++)\n",
        "      B[j] = rand()%10 + 0.2;\n",
        "\n",
        "    double rez_cpu = matmul_cpu(A, B, C_cpu, K, M, N);\n",
        "    double rez_gpu = matmul_gpu(A, B, C_gpu, K, M, N);\n",
        "\n",
        "    //print_matrix(A, K, M);\n",
        "    //print_matrix(B, M, N);\n",
        "    //print_matrix(C_cpu, K, N);\n",
        "\n",
        "    //cout << \"N = \" << same << endl;\n",
        "    cout << \"cpu: \" << rez_cpu << \" sec\" << endl;\n",
        "    cout << \"gpu: \" << rez_gpu << \" sec\" << endl;\n",
        "    cout << \"dif: \" << dif_matrix(C_cpu, C_gpu, K * N) << endl;\n",
        "\t\n",
        "    free(A);\n",
        "    free(B);\n",
        "    free(C_cpu);\n",
        "    free(C_gpu);\n",
        "    return 0;\n",
        "}"
      ],
      "metadata": {
        "colab": {
          "base_uri": "https://localhost:8080/"
        },
        "id": "ekjyXYzf95Ss",
        "outputId": "80f786dc-bcdf-4a27-90bc-8cbc2781d839"
      },
      "execution_count": 30,
      "outputs": [
        {
          "output_type": "stream",
          "name": "stdout",
          "text": [
            "cpu: 0.228043 sec\n",
            "gpu: 0.00082832 sec\n",
            "dif: 0.00532365\n",
            "\n"
          ]
        }
      ]
    },
    {
      "cell_type": "code",
      "source": [
        "import numpy as np\n",
        "import matplotlib.pyplot as plt\n",
        "\n",
        "plt.xlabel('N')\n",
        "plt.ylabel('Ускорение')\n",
        "x = np.array([100, 200, 500, 1000, 1500, 2000])\n",
        "cpu = np.array([0.003005, 0.024642, 0.435389, 3.71716, 18.6932, 67.5547])\n",
        "gpu = np.array([4.9568e-05, 0.000186528, 0.002348, 0.019907, 0.0634924, 0.202216])\n",
        "plt.plot(x, cpu/gpu)\n",
        "plt.show()"
      ],
      "metadata": {
        "colab": {
          "base_uri": "https://localhost:8080/",
          "height": 279
        },
        "id": "7OltpLg2iclr",
        "outputId": "08bd4c74-aa7d-490b-dd35-21d588ed5a6a"
      },
      "execution_count": 4,
      "outputs": [
        {
          "output_type": "display_data",
          "data": {
            "text/plain": [
              "<Figure size 432x288 with 1 Axes>"
            ],
            "image/png": "[encoded data removed]"
          },
          "metadata": {
            "needs_background": "light"
          }
        }
      ]
    },
    {
      "cell_type": "code",
      "source": [],
      "metadata": {
        "id": "SUtjjUVCsAlP"
      },
      "execution_count": null,
      "outputs": []
    }
  ]
}